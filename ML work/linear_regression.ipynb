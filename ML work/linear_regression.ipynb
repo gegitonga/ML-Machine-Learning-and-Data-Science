{
 "cells": [
  {
   "cell_type": "code",
   "execution_count": 4,
   "metadata": {},
   "outputs": [],
   "source": [
    "import pandas as pd\n",
    "import numpy as np\n",
    "import requests"
   ]
  },
  {
   "cell_type": "code",
   "execution_count": 3,
   "metadata": {},
   "outputs": [
    {
     "data": {
      "text/plain": [
       "matrix([['85.0', '117.0'],\n",
       "        ['83.5', '110.00000000000001'],\n",
       "        ['78.2', '102.0'],\n",
       "        ...,\n",
       "        ['58.6', '63.0'],\n",
       "        ['61.8', '62.0'],\n",
       "        ['44.7', '51.0']], dtype='<U18')"
      ]
     },
     "execution_count": 3,
     "metadata": {},
     "output_type": "execute_result"
    }
   ],
   "source": [
    "def collect_dataset():\n",
    "    \"\"\"Collect dataset of CSGO\n",
    "    The dataset contains ADR vs Rating of a Player\n",
    "    :return : dataset obtained from the link, as matrix\n",
    "    \"\"\"\n",
    "    response = requests.get(\n",
    "        \"https://raw.githubusercontent.com/yashLadha/\"\n",
    "        + \"The_Math_of_Intelligence/master/Week1/ADRvs\"\n",
    "        + \"Rating.csv\"\n",
    "    )\n",
    "    lines = response.text.splitlines()\n",
    "    data = []\n",
    "    for item in lines:\n",
    "        item = item.split(\",\")\n",
    "        data.append(item)\n",
    "    data.pop(0)  # This is for removing the labels from the list\n",
    "    dataset = np.matrix(data)\n",
    "    return dataset\n",
    "\n",
    "collect_dataset()"
   ]
  }
 ],
 "metadata": {
  "kernelspec": {
   "display_name": "Python 3.8.10 64-bit",
   "language": "python",
   "name": "python3"
  },
  "language_info": {
   "codemirror_mode": {
    "name": "ipython",
    "version": 3
   },
   "file_extension": ".py",
   "mimetype": "text/x-python",
   "name": "python",
   "nbconvert_exporter": "python",
   "pygments_lexer": "ipython3",
   "version": "3.8.10"
  },
  "orig_nbformat": 4,
  "vscode": {
   "interpreter": {
    "hash": "31f2aee4e71d21fbe5cf8b01ff0e069b9275f58929596ceb00d14d90e3e16cd6"
   }
  }
 },
 "nbformat": 4,
 "nbformat_minor": 2
}
