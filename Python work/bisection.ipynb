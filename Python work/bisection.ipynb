{
 "cells": [
  {
   "cell_type": "markdown",
   "metadata": {},
   "source": [
    "## Bisection Method"
   ]
  },
  {
   "cell_type": "code",
   "execution_count": 1,
   "metadata": {},
   "outputs": [],
   "source": [
    "from typing import Callable\n"
   ]
  },
  {
   "cell_type": "code",
   "execution_count": null,
   "metadata": {},
   "outputs": [],
   "source": [
    "def bisection(function: Callable[[float], float], a: float, b: float) -> float:\n",
    "    start: float = a\n",
    "    end: float = b\n",
    "    if function(a) == 0:\n",
    "        return a\n",
    "    elif function(b) == 0:\n",
    "        return b\n",
    "    elif (function(a) * function(b) > 0): \n",
    "        raise ValueError(\"could not find root in given interval.\")\n",
    "    else:\n",
    "        mid: float = start + (end - start) / 2.0\n",
    "        while abs(start - mid) > 10**-7:  # until precisely equals to 10^-7\n",
    "            if function(mid) == 0:\n",
    "                return mid\n",
    "            elif function(mid) * function(start) < 0:\n",
    "                end = mid\n",
    "            else:\n",
    "                start = mid\n",
    "            mid = start + (end - start) / 2.0\n",
    "        return mid\n",
    "def f(x: float) -> float:\n",
    "    return x**3 - 2 * x - 5\n",
    "\n",
    "if __name__ == \"__main__\":\n",
    "    print(bisection(f, 1, 1000))\n",
    "\n",
    "    import doctest\n",
    "\n",
    "    doctest.testmod()"
   ]
  },
  {
   "cell_type": "markdown",
   "metadata": {},
   "source": [
    "### Python function arguments with colon:<br/>\n",
    "```python\n",
    "def bisection(function: Callable[[float], float], a: float, b: float) -> float:\n",
    "```\n",
    "colons serve as a function annotation; function arguments and the return value can be tagged with arbitrary Python expressions. Python itself ignores the annotation (other than saving it), but third-party tools can make use of them.\n",
    "in this case\n",
    "```python\n",
    "function: Callable[[float]\n",
    "a: float\n",
    "b: float\n",
    "```"
   ]
  },
  {
   "cell_type": "markdown",
   "metadata": {},
   "source": [
    "##### 1. one of the a or b is a root for the function\n",
    "##### 2. if none of these are root and they are both positive or negative,\n",
    "        # then this algorithm can't find the root\n",
    "```python\n",
    "if function(a) == 0:  # one of the a or b is a root for the function\n",
    "        return a\n",
    "elif function(b) == 0:\n",
    "    return b\n",
    "elif (function(a) * function(b) > 0):  # if none of these are root and they are both positive or negative,\n",
    "    # then this algorithm can't find the root\n",
    "    raise ValueError(\"could not find root in given interval.\")\n",
    "```\n",
    "\n",
    "function() = lambda x: x ** 3\n"
   ]
  },
  {
   "cell_type": "markdown",
   "metadata": {},
   "source": []
  }
 ],
 "metadata": {
  "kernelspec": {
   "display_name": "Python 3.8.10 64-bit",
   "language": "python",
   "name": "python3"
  },
  "language_info": {
   "codemirror_mode": {
    "name": "ipython",
    "version": 3
   },
   "file_extension": ".py",
   "mimetype": "text/x-python",
   "name": "python",
   "nbconvert_exporter": "python",
   "pygments_lexer": "ipython3",
   "version": "3.8.10"
  },
  "orig_nbformat": 4,
  "vscode": {
   "interpreter": {
    "hash": "31f2aee4e71d21fbe5cf8b01ff0e069b9275f58929596ceb00d14d90e3e16cd6"
   }
  }
 },
 "nbformat": 4,
 "nbformat_minor": 2
}
