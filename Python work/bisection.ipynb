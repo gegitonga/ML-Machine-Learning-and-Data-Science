{
 "cells": [
  {
   "cell_type": "markdown",
   "metadata": {},
   "source": [
    "## Bisection Method"
   ]
  },
  {
   "cell_type": "markdown",
   "metadata": {},
   "source": [
    "The Bisection method is used to find the roots of a equation by repeatedly dividing the interval. This method will divide the interval until the resulting interval is found, which is extremely small. <br/>\n",
    "\n"
   ]
  },
  {
   "cell_type": "code",
   "execution_count": 2,
   "metadata": {},
   "outputs": [],
   "source": [
    "from typing import Callable\n"
   ]
  },
  {
   "cell_type": "code",
   "execution_count": 3,
   "metadata": {},
   "outputs": [
    {
     "name": "stdout",
     "output_type": "stream",
     "text": [
      "2.0945515197818168\n"
     ]
    }
   ],
   "source": [
    "def bisection(function: Callable[[float], float], a: float, b: float) -> float:\n",
    "    start: float = a\n",
    "    end: float = b\n",
    "    if function(a) == 0:\n",
    "        return a\n",
    "    elif function(b) == 0:\n",
    "        return b\n",
    "    elif (function(a) * function(b) > 0): \n",
    "        raise ValueError(\"could not find root in given interval.\")\n",
    "    else:\n",
    "        mid: float = start + (end - start) / 2.0\n",
    "        while abs(start - mid) > 10**-7:  # until precisely equals to 10^-7\n",
    "            if function(mid) == 0:\n",
    "                return mid\n",
    "            elif function(mid) * function(start) < 0:\n",
    "                end = mid\n",
    "            else:\n",
    "                start = mid\n",
    "            mid = start + (end - start) / 2.0\n",
    "        return mid\n",
    "def f(x: float) -> float:\n",
    "    return x**3 - 2 * x - 5\n",
    "\n",
    "if __name__ == \"__main__\":\n",
    "    print(bisection(f, 1, 1000))\n",
    "\n",
    "    import doctest\n",
    "\n",
    "    doctest.testmod()"
   ]
  },
  {
   "cell_type": "code",
   "execution_count": 4,
   "metadata": {},
   "outputs": [
    {
     "data": {
      "text/plain": [
       "1.0000000149011612"
      ]
     },
     "execution_count": 4,
     "metadata": {},
     "output_type": "execute_result"
    }
   ],
   "source": [
    "bisection(lambda x: x ** 3 - 1, -5, 5)"
   ]
  },
  {
   "cell_type": "code",
   "execution_count": 5,
   "metadata": {},
   "outputs": [
    {
     "ename": "ValueError",
     "evalue": "could not find root in given interval.",
     "output_type": "error",
     "traceback": [
      "\u001b[0;31m---------------------------------------------------------------------------\u001b[0m",
      "\u001b[0;31mValueError\u001b[0m                                Traceback (most recent call last)",
      "Cell \u001b[0;32mIn [5], line 1\u001b[0m\n\u001b[0;32m----> 1\u001b[0m bisection(\u001b[39mlambda\u001b[39;49;00m x: x \u001b[39m*\u001b[39;49m\u001b[39m*\u001b[39;49m \u001b[39m3\u001b[39;49m \u001b[39m-\u001b[39;49m \u001b[39m1\u001b[39;49m, \u001b[39m2\u001b[39;49m, \u001b[39m1000\u001b[39;49m)\n",
      "Cell \u001b[0;32mIn [3], line 9\u001b[0m, in \u001b[0;36mbisection\u001b[0;34m(function, a, b)\u001b[0m\n\u001b[1;32m      7\u001b[0m     \u001b[39mreturn\u001b[39;00m b\n\u001b[1;32m      8\u001b[0m \u001b[39melif\u001b[39;00m (function(a) \u001b[39m*\u001b[39m function(b) \u001b[39m>\u001b[39m \u001b[39m0\u001b[39m): \n\u001b[0;32m----> 9\u001b[0m     \u001b[39mraise\u001b[39;00m \u001b[39mValueError\u001b[39;00m(\u001b[39m\"\u001b[39m\u001b[39mcould not find root in given interval.\u001b[39m\u001b[39m\"\u001b[39m)\n\u001b[1;32m     10\u001b[0m \u001b[39melse\u001b[39;00m:\n\u001b[1;32m     11\u001b[0m     mid: \u001b[39mfloat\u001b[39m \u001b[39m=\u001b[39m start \u001b[39m+\u001b[39m (end \u001b[39m-\u001b[39m start) \u001b[39m/\u001b[39m \u001b[39m2.0\u001b[39m\n",
      "\u001b[0;31mValueError\u001b[0m: could not find root in given interval."
     ]
    }
   ],
   "source": [
    "bisection(lambda x: x ** 3 - 1, 2, 1000)"
   ]
  },
  {
   "cell_type": "code",
   "execution_count": 6,
   "metadata": {},
   "outputs": [
    {
     "data": {
      "text/plain": [
       "1.0"
      ]
     },
     "execution_count": 6,
     "metadata": {},
     "output_type": "execute_result"
    }
   ],
   "source": [
    "bisection(lambda x: x ** 2 - 4 * x + 3, 0, 2)"
   ]
  },
  {
   "cell_type": "markdown",
   "metadata": {},
   "source": [
    "### Python function arguments with colon:<br/>\n",
    "```python\n",
    "def bisection(function: Callable[[float], float], a: float, b: float) -> float:\n",
    "```\n",
    "colons serve as a function annotation; function arguments and the return value can be tagged with arbitrary Python expressions. Python itself ignores the annotation (other than saving it), but third-party tools can make use of them.\n",
    "in this case\n",
    "```python\n",
    "function: Callable[[float]\n",
    "a: float\n",
    "b: float\n",
    "```"
   ]
  },
  {
   "cell_type": "markdown",
   "metadata": {},
   "source": [
    "# Bisection Method Algorithm"
   ]
  },
  {
   "cell_type": "markdown",
   "metadata": {},
   "source": [
    "##### 1. one of the a or b is a root for the function\n",
    "##### 2. if none of these are root and they are both positive or negative,\n",
    "\n",
    "1. For any continous function f(x):\n",
    "- a is the root for the function if f(a) == 0\n",
    "- b is the root for the function if f(b) == 0\n",
    "- for two points, say a and b such that a < b and f(a)* f(b) < 0\n",
    "\n",
    "\n",
    "```python\n",
    "if function(a) == 0:  # one of the a or b is a root for the function\n",
    "        return a\n",
    "elif function(b) == 0:\n",
    "    return b\n",
    "elif (function(a) * function(b) > 0):  # if none of these are root and they are both positive or negative,\n",
    "    # then this algorithm can't find the root\n",
    "    raise ValueError(\"could not find root in given interval.\")\n",
    "```\n"
   ]
  },
  {
   "cell_type": "markdown",
   "metadata": {},
   "source": [
    "# Step 3\n",
    "\n",
    "```python\n",
    "    else:\n",
    "        mid: float = start + (end - start) / 2.0\n",
    "        while abs(start - mid) > 10**-7:  # until precisely equals to 10^-7\n",
    "            if function(mid) == 0:\n",
    "                return mid\n",
    "            elif function(mid) * function(start) < 0:\n",
    "                end = mid\n",
    "            else:\n",
    "                start = mid\n",
    "            mid = start + (end - start) / 2.0\n",
    "        return mid\n",
    "```\n",
    "3. Find the midpoint of a and b, say “t”\n",
    " ```python\n",
    "mid: float = start + (end - start) / 2.0\n",
    "````\n",
    "- t is the root of the given function if f(t) = 0; else follow the next step\n",
    "- Divide the interval [a, b] – If f(t)*f(a) <0, there exist a root between t and a\n",
    "else if f(t) *f (b) < 0, there exist a root between t and b\n",
    "- Repeat above three steps until f(t) = 0.\n",
    "\n",
    "#### abs() function\n",
    "The abs() function returns the absolute value of the specified number and remove the negative sign of a number in Python. \n",
    "\n"
   ]
  },
  {
   "cell_type": "markdown",
   "metadata": {},
   "source": []
  }
 ],
 "metadata": {
  "kernelspec": {
   "display_name": "Python 3.8.10 64-bit",
   "language": "python",
   "name": "python3"
  },
  "language_info": {
   "codemirror_mode": {
    "name": "ipython",
    "version": 3
   },
   "file_extension": ".py",
   "mimetype": "text/x-python",
   "name": "python",
   "nbconvert_exporter": "python",
   "pygments_lexer": "ipython3",
   "version": "3.8.10"
  },
  "orig_nbformat": 4,
  "vscode": {
   "interpreter": {
    "hash": "31f2aee4e71d21fbe5cf8b01ff0e069b9275f58929596ceb00d14d90e3e16cd6"
   }
  }
 },
 "nbformat": 4,
 "nbformat_minor": 2
}
