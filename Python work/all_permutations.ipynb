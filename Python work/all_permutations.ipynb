{
 "cells": [
  {
   "cell_type": "code",
   "execution_count": 25,
   "metadata": {},
   "outputs": [
    {
     "name": "stdout",
     "output_type": "stream",
     "text": [
      "[[3, 2, 1], [2, 3, 1], [1, 3, 2], [3, 1, 2], [2, 1, 3], [1, 2, 3]]\n"
     ]
    }
   ],
   "source": [
    "class Solution:\n",
    "    def permute(self,nums):\n",
    "        result = []\n",
    "\n",
    "        #base case\n",
    "        if (len(nums) == 1):\n",
    "            return [nums[:]]\n",
    "\n",
    "        #we want to go through all items in nums i.e [1,2,3]\n",
    "        for i in range(len(nums)):\n",
    "            #pop the value at the 0 index\n",
    "            n = nums.pop(0)\n",
    "            perms = self.permute(nums)\n",
    "            for perm in perms:\n",
    "                perm.append(n)\n",
    "            result.extend(perms)\n",
    "            nums.append(n)\n",
    "\n",
    "        return result\n",
    "\n",
    "if __name__ == \"__main__\":\n",
    "    t = Solution()\n",
    "    print(t.permute([1,2,3]))"
   ]
  }
 ],
 "metadata": {
  "kernelspec": {
   "display_name": "Python 3.8.10 64-bit",
   "language": "python",
   "name": "python3"
  },
  "language_info": {
   "codemirror_mode": {
    "name": "ipython",
    "version": 3
   },
   "file_extension": ".py",
   "mimetype": "text/x-python",
   "name": "python",
   "nbconvert_exporter": "python",
   "pygments_lexer": "ipython3",
   "version": "3.8.10"
  },
  "orig_nbformat": 4,
  "vscode": {
   "interpreter": {
    "hash": "31f2aee4e71d21fbe5cf8b01ff0e069b9275f58929596ceb00d14d90e3e16cd6"
   }
  }
 },
 "nbformat": 4,
 "nbformat_minor": 2
}
